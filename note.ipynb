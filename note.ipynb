{
 "cells": [
  {
   "cell_type": "markdown",
   "metadata": {},
   "source": [
    "## Context Window\n",
    "\n",
    "![llm-memo](./docs/imgs/llm-input.png)\n",
    "\n",
    "- Input 에 참고할 문서의 내용이 많아지면 결과적으로 token 수가 많아지므로, 비용이 비싸진다. 특히 API 를 이용할 경우 비용이 많이 든다.\n",
    "\n"
   ]
  },
  {
   "cell_type": "markdown",
   "metadata": {},
   "source": [
    "\n",
    "## Hallucinations 를 줄이는 방법\n",
    "\n",
    "- 유효한 정보 기반으로 답변을 강제\n",
    "- 답변애 데ㅐ한 출처를 다시 주어진 문서로부터 찾게 하는 방식을 이용\n",
    "\n"
   ]
  },
  {
   "cell_type": "markdown",
   "metadata": {},
   "source": [
    "## RAG 를 이용해야하는 이유\n",
    "  - 비용 절감\n",
    "  - 성능 향상\n",
    "  - 정확도 향상"
   ]
  }
 ],
 "metadata": {
  "language_info": {
   "name": "python"
  }
 },
 "nbformat": 4,
 "nbformat_minor": 2
}
